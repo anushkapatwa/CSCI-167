{
  "nbformat": 4,
  "nbformat_minor": 0,
  "metadata": {
    "colab": {
      "provenance": [],
      "include_colab_link": true
    },
    "kernelspec": {
      "name": "python3",
      "display_name": "Python 3"
    },
    "language_info": {
      "name": "python"
    }
  },
  "cells": [
    {
      "cell_type": "markdown",
      "metadata": {
        "id": "view-in-github",
        "colab_type": "text"
      },
      "source": [
        "<a href=\"https://colab.research.google.com/github/anushkapatwa/CSCI-167/blob/main/Notebooks/Chap10/10_2_Convolution_for_MNIST_1D.ipynb\" target=\"_parent\"><img src=\"https://colab.research.google.com/assets/colab-badge.svg\" alt=\"Open In Colab\"/></a>"
      ]
    },
    {
      "cell_type": "markdown",
      "source": [
        "# **Notebook 10.2: Convolution for MNIST-1D**\n",
        "\n",
        "This notebook investigates a 1D convolutional network for MNIST-1D as in figure 10.7 and 10.8a.\n",
        "\n",
        "Work through the cells below, running each cell in turn. In various places you will see the words \"TODO\". Follow the instructions at these places and make predictions about what is going to happen or write code to complete the functions.\n",
        "\n",
        "Contact me at udlbookmail@gmail.com if you find any mistakes or have any suggestions.\n",
        "\n"
      ],
      "metadata": {
        "id": "t9vk9Elugvmi"
      }
    },
    {
      "cell_type": "code",
      "source": [
        "# Run this if you're in a Colab to install MNIST 1D repository\n",
        "!pip install git+https://github.com/greydanus/mnist1d"
      ],
      "metadata": {
        "id": "D5yLObtZCi9J",
        "outputId": "134e43c4-dbf9-41bc-cc74-d1aa347c76f6",
        "colab": {
          "base_uri": "https://localhost:8080/"
        }
      },
      "execution_count": 1,
      "outputs": [
        {
          "output_type": "stream",
          "name": "stdout",
          "text": [
            "Collecting git+https://github.com/greydanus/mnist1d\n",
            "  Cloning https://github.com/greydanus/mnist1d to /tmp/pip-req-build-g_kwo_ub\n",
            "  Running command git clone --filter=blob:none --quiet https://github.com/greydanus/mnist1d /tmp/pip-req-build-g_kwo_ub\n",
            "  Resolved https://github.com/greydanus/mnist1d to commit 7878d96082abd200c546a07a4101fa90b30fdf7e\n",
            "  Installing build dependencies ... \u001b[?25l\u001b[?25hdone\n",
            "  Getting requirements to build wheel ... \u001b[?25l\u001b[?25hdone\n",
            "  Preparing metadata (pyproject.toml) ... \u001b[?25l\u001b[?25hdone\n",
            "Requirement already satisfied: requests in /usr/local/lib/python3.12/dist-packages (from mnist1d==0.0.2.post16) (2.32.4)\n",
            "Requirement already satisfied: numpy in /usr/local/lib/python3.12/dist-packages (from mnist1d==0.0.2.post16) (2.0.2)\n",
            "Requirement already satisfied: matplotlib in /usr/local/lib/python3.12/dist-packages (from mnist1d==0.0.2.post16) (3.10.0)\n",
            "Requirement already satisfied: scipy in /usr/local/lib/python3.12/dist-packages (from mnist1d==0.0.2.post16) (1.16.3)\n",
            "Requirement already satisfied: contourpy>=1.0.1 in /usr/local/lib/python3.12/dist-packages (from matplotlib->mnist1d==0.0.2.post16) (1.3.3)\n",
            "Requirement already satisfied: cycler>=0.10 in /usr/local/lib/python3.12/dist-packages (from matplotlib->mnist1d==0.0.2.post16) (0.12.1)\n",
            "Requirement already satisfied: fonttools>=4.22.0 in /usr/local/lib/python3.12/dist-packages (from matplotlib->mnist1d==0.0.2.post16) (4.60.1)\n",
            "Requirement already satisfied: kiwisolver>=1.3.1 in /usr/local/lib/python3.12/dist-packages (from matplotlib->mnist1d==0.0.2.post16) (1.4.9)\n",
            "Requirement already satisfied: packaging>=20.0 in /usr/local/lib/python3.12/dist-packages (from matplotlib->mnist1d==0.0.2.post16) (25.0)\n",
            "Requirement already satisfied: pillow>=8 in /usr/local/lib/python3.12/dist-packages (from matplotlib->mnist1d==0.0.2.post16) (11.3.0)\n",
            "Requirement already satisfied: pyparsing>=2.3.1 in /usr/local/lib/python3.12/dist-packages (from matplotlib->mnist1d==0.0.2.post16) (3.2.5)\n",
            "Requirement already satisfied: python-dateutil>=2.7 in /usr/local/lib/python3.12/dist-packages (from matplotlib->mnist1d==0.0.2.post16) (2.9.0.post0)\n",
            "Requirement already satisfied: charset_normalizer<4,>=2 in /usr/local/lib/python3.12/dist-packages (from requests->mnist1d==0.0.2.post16) (3.4.4)\n",
            "Requirement already satisfied: idna<4,>=2.5 in /usr/local/lib/python3.12/dist-packages (from requests->mnist1d==0.0.2.post16) (3.11)\n",
            "Requirement already satisfied: urllib3<3,>=1.21.1 in /usr/local/lib/python3.12/dist-packages (from requests->mnist1d==0.0.2.post16) (2.5.0)\n",
            "Requirement already satisfied: certifi>=2017.4.17 in /usr/local/lib/python3.12/dist-packages (from requests->mnist1d==0.0.2.post16) (2025.10.5)\n",
            "Requirement already satisfied: six>=1.5 in /usr/local/lib/python3.12/dist-packages (from python-dateutil>=2.7->matplotlib->mnist1d==0.0.2.post16) (1.17.0)\n",
            "Building wheels for collected packages: mnist1d\n",
            "  Building wheel for mnist1d (pyproject.toml) ... \u001b[?25l\u001b[?25hdone\n",
            "  Created wheel for mnist1d: filename=mnist1d-0.0.2.post16-py3-none-any.whl size=14665 sha256=b8d0febb37daa0a99e9fd14fe6109ffcbf990ba0da69a6228226d74d630a04f4\n",
            "  Stored in directory: /tmp/pip-ephem-wheel-cache-z9u33tyv/wheels/18/40/b6/29381fee9b4c80fdbc304d52bb065a7286bbcca5ca2b8737c0\n",
            "Successfully built mnist1d\n",
            "Installing collected packages: mnist1d\n",
            "Successfully installed mnist1d-0.0.2.post16\n"
          ]
        }
      ]
    },
    {
      "cell_type": "code",
      "source": [
        "import numpy as np\n",
        "import os\n",
        "import torch, torch.nn as nn\n",
        "from torch.utils.data import TensorDataset, DataLoader\n",
        "from torch.optim.lr_scheduler import StepLR\n",
        "import matplotlib.pyplot as plt\n",
        "import mnist1d\n",
        "import random"
      ],
      "metadata": {
        "id": "YrXWAH7sUWvU"
      },
      "execution_count": 2,
      "outputs": []
    },
    {
      "cell_type": "code",
      "source": [
        "args = mnist1d.data.get_dataset_args()\n",
        "data = mnist1d.data.get_dataset(args, path='./mnist1d_data.pkl', download=False, regenerate=False)\n",
        "\n",
        "# The training and test input and outputs are in\n",
        "# data['x'], data['y'], data['x_test'], and data['y_test']\n",
        "print(\"Examples in training set: {}\".format(len(data['y'])))\n",
        "print(\"Examples in test set: {}\".format(len(data['y_test'])))\n",
        "print(\"Length of each example: {}\".format(data['x'].shape[-1]))"
      ],
      "metadata": {
        "id": "twI72ZCrCt5z",
        "outputId": "c06d4dcf-cda6-48eb-e114-fbbafa62909b",
        "colab": {
          "base_uri": "https://localhost:8080/"
        }
      },
      "execution_count": 3,
      "outputs": [
        {
          "output_type": "stream",
          "name": "stdout",
          "text": [
            "Did or could not load data from ./mnist1d_data.pkl. Rebuilding dataset...\n",
            "Examples in training set: 4000\n",
            "Examples in test set: 1000\n",
            "Length of each example: 40\n"
          ]
        }
      ]
    },
    {
      "cell_type": "code",
      "source": [
        "# Load in the data\n",
        "train_data_x = data['x'].transpose()\n",
        "train_data_y = data['y']\n",
        "val_data_x = data['x_test'].transpose()\n",
        "val_data_y = data['y_test']\n",
        "# Print out sizes\n",
        "print(\"Train data: %d examples (columns), each of which has %d dimensions (rows)\"%((train_data_x.shape[1],train_data_x.shape[0])))\n",
        "print(\"Validation data: %d examples (columns), each of which has %d dimensions (rows)\"%((val_data_x.shape[1],val_data_x.shape[0])))"
      ],
      "metadata": {
        "id": "8bKADvLHbiV5",
        "outputId": "33037465-5a7e-4749-c1c2-bd3ace7cce00",
        "colab": {
          "base_uri": "https://localhost:8080/"
        }
      },
      "execution_count": 4,
      "outputs": [
        {
          "output_type": "stream",
          "name": "stdout",
          "text": [
            "Train data: 4000 examples (columns), each of which has 40 dimensions (rows)\n",
            "Validation data: 1000 examples (columns), each of which has 40 dimensions (rows)\n"
          ]
        }
      ]
    },
    {
      "cell_type": "markdown",
      "source": [
        "Define the network"
      ],
      "metadata": {
        "id": "_sFvRDGrl4qe"
      }
    },
    {
      "cell_type": "code",
      "source": [
        "import torch.nn as nn\n",
        "\n",
        "model = nn.Sequential(\n",
        "    # 1. Conv1D: input length 40, 1 channel → output 15 channels\n",
        "    nn.Conv1d(in_channels=1, out_channels=15, kernel_size=3, stride=2, padding=0),\n",
        "    nn.ReLU(),\n",
        "\n",
        "    # 2. Conv1D: input length 19 → output 15 channels\n",
        "    nn.Conv1d(in_channels=15, out_channels=15, kernel_size=3, stride=2, padding=0),\n",
        "    nn.ReLU(),\n",
        "\n",
        "    # 3. Conv1D: input length 9 → output 15 channels\n",
        "    nn.Conv1d(in_channels=15, out_channels=15, kernel_size=3, stride=2, padding=0),\n",
        "    nn.ReLU(),\n",
        "\n",
        "    # Flatten and fully connected layers\n",
        "    nn.Flatten(),                # converts (15,4) → 60\n",
        "    nn.Linear(60, 10)            # 10 outputs for digits 0–9\n",
        ")\n"
      ],
      "metadata": {
        "id": "FslroPJJffrh"
      },
      "execution_count": 5,
      "outputs": []
    },
    {
      "cell_type": "code",
      "source": [
        "# He initialization of weights\n",
        "def weights_init(layer_in):\n",
        "  if isinstance(layer_in, nn.Linear):\n",
        "    nn.init.kaiming_uniform_(layer_in.weight)\n",
        "    layer_in.bias.data.fill_(0.0)"
      ],
      "metadata": {
        "id": "YgLaex1pfhqz"
      },
      "execution_count": 6,
      "outputs": []
    },
    {
      "cell_type": "code",
      "source": [
        "# choose cross entropy loss function (equation 5.24 in the loss notes)\n",
        "loss_function = nn.CrossEntropyLoss()\n",
        "# construct SGD optimizer and initialize learning rate and momentum\n",
        "optimizer = torch.optim.SGD(model.parameters(), lr = 0.05, momentum=0.9)\n",
        "# object that decreases learning rate by half every 20 epochs\n",
        "scheduler = StepLR(optimizer, step_size=20, gamma=0.5)\n",
        "# create 100 dummy data points and store in data loader class\n",
        "x_train = torch.tensor(train_data_x.transpose().astype('float32'))\n",
        "y_train = torch.tensor(train_data_y.astype('long')).long()\n",
        "x_val= torch.tensor(val_data_x.transpose().astype('float32'))\n",
        "y_val = torch.tensor(val_data_y.astype('long')).long()\n",
        "\n",
        "# load the data into a class that creates the batches\n",
        "data_loader = DataLoader(TensorDataset(x_train,y_train), batch_size=100, shuffle=True, worker_init_fn=np.random.seed(1))\n",
        "\n",
        "# Initialize model weights\n",
        "model.apply(weights_init)\n",
        "\n",
        "# loop over the dataset n_epoch times\n",
        "n_epoch = 100\n",
        "# store the loss and the % correct at each epoch\n",
        "losses_train = np.zeros((n_epoch))\n",
        "errors_train = np.zeros((n_epoch))\n",
        "losses_val = np.zeros((n_epoch))\n",
        "errors_val = np.zeros((n_epoch))\n",
        "\n",
        "for epoch in range(n_epoch):\n",
        "  # loop over batches\n",
        "  for i, data in enumerate(data_loader):\n",
        "    # retrieve inputs and labels for this batch\n",
        "    x_batch, y_batch = data\n",
        "    # zero the parameter gradients\n",
        "    optimizer.zero_grad()\n",
        "    # forward pass -- calculate model output\n",
        "    pred = model(x_batch[:,None,:])\n",
        "    # compute the loss\n",
        "    loss = loss_function(pred, y_batch)\n",
        "    # backward pass\n",
        "    loss.backward()\n",
        "    # SGD update\n",
        "    optimizer.step()\n",
        "\n",
        "  # Run whole dataset to get statistics -- normally wouldn't do this\n",
        "  pred_train = model(x_train[:,None,:])\n",
        "  pred_val = model(x_val[:,None,:])\n",
        "  _, predicted_train_class = torch.max(pred_train.data, 1)\n",
        "  _, predicted_val_class = torch.max(pred_val.data, 1)\n",
        "  errors_train[epoch] = 100 - 100 * (predicted_train_class == y_train).float().sum() / len(y_train)\n",
        "  errors_val[epoch]= 100 - 100 * (predicted_val_class == y_val).float().sum() / len(y_val)\n",
        "  losses_train[epoch] = loss_function(pred_train, y_train).item()\n",
        "  losses_val[epoch]= loss_function(pred_val, y_val).item()\n",
        "  print(f'Epoch {epoch:5d}, train loss {losses_train[epoch]:.6f}, train error {errors_train[epoch]:3.2f},  val loss {losses_val[epoch]:.6f}, percent error {errors_val[epoch]:3.2f}')\n",
        "\n",
        "  # tell scheduler to consider updating learning rate\n",
        "  scheduler.step()\n",
        "\n",
        "# Plot the results\n",
        "fig, ax = plt.subplots()\n",
        "ax.plot(errors_train,'r-',label='train')\n",
        "ax.plot(errors_val,'b-',label='validation')\n",
        "ax.set_ylim(0,100); ax.set_xlim(0,n_epoch)\n",
        "ax.set_xlabel('Epoch'); ax.set_ylabel('Error')\n",
        "ax.set_title('Part I: Validation Result %3.2f'%(errors_val[-1]))\n",
        "ax.legend()\n",
        "plt.show()"
      ],
      "metadata": {
        "id": "NYw8I_3mmX5c",
        "outputId": "f10fc188-27e3-473b-f699-b9ad61961def",
        "colab": {
          "base_uri": "https://localhost:8080/",
          "height": 1000
        }
      },
      "execution_count": 7,
      "outputs": [
        {
          "output_type": "stream",
          "name": "stdout",
          "text": [
            "Epoch     0, train loss 2.082156, train error 78.65,  val loss 2.086971, percent error 80.00\n",
            "Epoch     1, train loss 1.509911, train error 60.00,  val loss 1.531632, percent error 65.20\n",
            "Epoch     2, train loss 1.336251, train error 53.60,  val loss 1.346956, percent error 58.00\n",
            "Epoch     3, train loss 1.276439, train error 52.38,  val loss 1.280475, percent error 55.20\n",
            "Epoch     4, train loss 1.263412, train error 53.42,  val loss 1.281132, percent error 53.60\n",
            "Epoch     5, train loss 1.126418, train error 44.88,  val loss 1.149872, percent error 46.80\n",
            "Epoch     6, train loss 1.063789, train error 44.53,  val loss 1.106714, percent error 45.90\n",
            "Epoch     7, train loss 0.979850, train error 40.45,  val loss 1.026256, percent error 42.90\n",
            "Epoch     8, train loss 0.910365, train error 37.00,  val loss 0.975575, percent error 39.70\n",
            "Epoch     9, train loss 0.850907, train error 35.32,  val loss 0.899939, percent error 36.20\n",
            "Epoch    10, train loss 0.780538, train error 31.50,  val loss 0.859597, percent error 34.30\n",
            "Epoch    11, train loss 0.720351, train error 29.45,  val loss 0.779534, percent error 31.90\n",
            "Epoch    12, train loss 0.647235, train error 25.68,  val loss 0.721291, percent error 28.20\n",
            "Epoch    13, train loss 0.623823, train error 24.72,  val loss 0.700143, percent error 26.90\n",
            "Epoch    14, train loss 0.572596, train error 22.72,  val loss 0.687982, percent error 28.20\n",
            "Epoch    15, train loss 0.503008, train error 19.32,  val loss 0.596270, percent error 22.60\n",
            "Epoch    16, train loss 0.463947, train error 16.70,  val loss 0.564405, percent error 22.40\n",
            "Epoch    17, train loss 0.422818, train error 15.93,  val loss 0.567765, percent error 20.50\n",
            "Epoch    18, train loss 0.350757, train error 13.30,  val loss 0.495498, percent error 18.10\n",
            "Epoch    19, train loss 0.277948, train error 9.60,  val loss 0.445426, percent error 14.80\n",
            "Epoch    20, train loss 0.235477, train error 8.53,  val loss 0.406297, percent error 13.00\n",
            "Epoch    21, train loss 0.201673, train error 6.68,  val loss 0.364919, percent error 10.70\n",
            "Epoch    22, train loss 0.204722, train error 6.53,  val loss 0.382839, percent error 13.30\n",
            "Epoch    23, train loss 0.191161, train error 6.85,  val loss 0.386148, percent error 11.30\n",
            "Epoch    24, train loss 0.176287, train error 6.03,  val loss 0.374406, percent error 11.20\n",
            "Epoch    25, train loss 0.205378, train error 7.10,  val loss 0.388950, percent error 11.60\n",
            "Epoch    26, train loss 0.159054, train error 5.03,  val loss 0.345653, percent error 10.50\n",
            "Epoch    27, train loss 0.157520, train error 5.32,  val loss 0.369526, percent error 10.60\n",
            "Epoch    28, train loss 0.147513, train error 4.82,  val loss 0.388453, percent error 12.70\n",
            "Epoch    29, train loss 0.161276, train error 5.65,  val loss 0.370673, percent error 11.80\n",
            "Epoch    30, train loss 0.138640, train error 4.75,  val loss 0.371877, percent error 11.90\n",
            "Epoch    31, train loss 0.119878, train error 3.85,  val loss 0.350485, percent error 10.50\n",
            "Epoch    32, train loss 0.144029, train error 4.85,  val loss 0.355116, percent error 9.80\n",
            "Epoch    33, train loss 0.121382, train error 4.22,  val loss 0.354575, percent error 10.20\n",
            "Epoch    34, train loss 0.120747, train error 3.88,  val loss 0.355960, percent error 10.70\n",
            "Epoch    35, train loss 0.100602, train error 3.20,  val loss 0.352026, percent error 10.60\n",
            "Epoch    36, train loss 0.098081, train error 3.10,  val loss 0.355296, percent error 9.20\n",
            "Epoch    37, train loss 0.097224, train error 3.00,  val loss 0.357000, percent error 10.10\n",
            "Epoch    38, train loss 0.084621, train error 2.50,  val loss 0.340411, percent error 9.00\n",
            "Epoch    39, train loss 0.083911, train error 2.65,  val loss 0.350756, percent error 10.30\n",
            "Epoch    40, train loss 0.079718, train error 1.97,  val loss 0.348549, percent error 9.80\n",
            "Epoch    41, train loss 0.069948, train error 1.80,  val loss 0.348842, percent error 9.50\n",
            "Epoch    42, train loss 0.066293, train error 1.72,  val loss 0.347854, percent error 9.10\n",
            "Epoch    43, train loss 0.066317, train error 1.68,  val loss 0.346966, percent error 9.20\n",
            "Epoch    44, train loss 0.062248, train error 1.43,  val loss 0.355461, percent error 9.60\n",
            "Epoch    45, train loss 0.062952, train error 1.53,  val loss 0.351447, percent error 10.00\n",
            "Epoch    46, train loss 0.065957, train error 1.70,  val loss 0.359305, percent error 9.40\n",
            "Epoch    47, train loss 0.060978, train error 1.45,  val loss 0.356261, percent error 9.20\n",
            "Epoch    48, train loss 0.057116, train error 1.45,  val loss 0.364068, percent error 9.00\n",
            "Epoch    49, train loss 0.057029, train error 1.38,  val loss 0.360297, percent error 9.40\n",
            "Epoch    50, train loss 0.054337, train error 1.32,  val loss 0.362352, percent error 10.20\n",
            "Epoch    51, train loss 0.057965, train error 1.35,  val loss 0.372684, percent error 9.30\n",
            "Epoch    52, train loss 0.066273, train error 2.10,  val loss 0.390603, percent error 9.50\n",
            "Epoch    53, train loss 0.055798, train error 1.22,  val loss 0.363058, percent error 9.30\n",
            "Epoch    54, train loss 0.050441, train error 1.07,  val loss 0.368253, percent error 8.50\n",
            "Epoch    55, train loss 0.052230, train error 1.35,  val loss 0.388599, percent error 9.00\n",
            "Epoch    56, train loss 0.047319, train error 0.95,  val loss 0.379097, percent error 9.30\n",
            "Epoch    57, train loss 0.047026, train error 0.97,  val loss 0.381025, percent error 10.10\n",
            "Epoch    58, train loss 0.051188, train error 1.30,  val loss 0.390975, percent error 9.30\n",
            "Epoch    59, train loss 0.044129, train error 0.97,  val loss 0.381171, percent error 9.60\n",
            "Epoch    60, train loss 0.041749, train error 0.82,  val loss 0.379230, percent error 9.60\n",
            "Epoch    61, train loss 0.041134, train error 0.78,  val loss 0.379303, percent error 9.60\n",
            "Epoch    62, train loss 0.042614, train error 0.85,  val loss 0.384923, percent error 9.40\n",
            "Epoch    63, train loss 0.040242, train error 0.70,  val loss 0.386013, percent error 9.90\n",
            "Epoch    64, train loss 0.039587, train error 0.68,  val loss 0.388158, percent error 9.80\n",
            "Epoch    65, train loss 0.040256, train error 0.75,  val loss 0.385591, percent error 9.60\n",
            "Epoch    66, train loss 0.038765, train error 0.72,  val loss 0.387703, percent error 9.50\n",
            "Epoch    67, train loss 0.038118, train error 0.70,  val loss 0.392418, percent error 9.40\n",
            "Epoch    68, train loss 0.037827, train error 0.55,  val loss 0.390493, percent error 9.40\n",
            "Epoch    69, train loss 0.038823, train error 0.65,  val loss 0.394533, percent error 10.10\n",
            "Epoch    70, train loss 0.036925, train error 0.53,  val loss 0.397378, percent error 9.50\n",
            "Epoch    71, train loss 0.041775, train error 0.97,  val loss 0.400535, percent error 9.30\n",
            "Epoch    72, train loss 0.036622, train error 0.70,  val loss 0.396581, percent error 9.90\n",
            "Epoch    73, train loss 0.036399, train error 0.57,  val loss 0.402189, percent error 9.50\n",
            "Epoch    74, train loss 0.035832, train error 0.55,  val loss 0.396930, percent error 9.70\n",
            "Epoch    75, train loss 0.034965, train error 0.60,  val loss 0.397512, percent error 9.90\n",
            "Epoch    76, train loss 0.034788, train error 0.55,  val loss 0.405458, percent error 9.50\n",
            "Epoch    77, train loss 0.034152, train error 0.57,  val loss 0.405206, percent error 10.00\n",
            "Epoch    78, train loss 0.034186, train error 0.57,  val loss 0.403427, percent error 9.90\n",
            "Epoch    79, train loss 0.033550, train error 0.47,  val loss 0.412435, percent error 9.50\n",
            "Epoch    80, train loss 0.033462, train error 0.50,  val loss 0.407952, percent error 9.90\n",
            "Epoch    81, train loss 0.033281, train error 0.50,  val loss 0.414475, percent error 9.80\n",
            "Epoch    82, train loss 0.032587, train error 0.53,  val loss 0.408085, percent error 10.10\n",
            "Epoch    83, train loss 0.032315, train error 0.55,  val loss 0.411288, percent error 10.00\n",
            "Epoch    84, train loss 0.032023, train error 0.43,  val loss 0.412457, percent error 10.00\n",
            "Epoch    85, train loss 0.031873, train error 0.47,  val loss 0.413744, percent error 9.90\n",
            "Epoch    86, train loss 0.031804, train error 0.47,  val loss 0.410826, percent error 10.20\n",
            "Epoch    87, train loss 0.032389, train error 0.50,  val loss 0.416938, percent error 10.00\n",
            "Epoch    88, train loss 0.031317, train error 0.43,  val loss 0.414828, percent error 9.70\n",
            "Epoch    89, train loss 0.031177, train error 0.43,  val loss 0.413721, percent error 10.00\n",
            "Epoch    90, train loss 0.031211, train error 0.55,  val loss 0.413457, percent error 9.80\n",
            "Epoch    91, train loss 0.031200, train error 0.43,  val loss 0.414302, percent error 10.30\n",
            "Epoch    92, train loss 0.030543, train error 0.45,  val loss 0.416859, percent error 9.90\n",
            "Epoch    93, train loss 0.031024, train error 0.45,  val loss 0.419712, percent error 10.20\n",
            "Epoch    94, train loss 0.030290, train error 0.45,  val loss 0.420714, percent error 10.10\n",
            "Epoch    95, train loss 0.030074, train error 0.40,  val loss 0.420364, percent error 10.10\n",
            "Epoch    96, train loss 0.030317, train error 0.45,  val loss 0.421051, percent error 9.70\n",
            "Epoch    97, train loss 0.029942, train error 0.30,  val loss 0.421422, percent error 10.10\n",
            "Epoch    98, train loss 0.029837, train error 0.35,  val loss 0.423391, percent error 10.00\n",
            "Epoch    99, train loss 0.029395, train error 0.38,  val loss 0.422420, percent error 10.30\n"
          ]
        },
        {
          "output_type": "display_data",
          "data": {
            "text/plain": [
              "<Figure size 640x480 with 1 Axes>"
            ],
            "image/png": "[encoded data removed]"
          },
          "metadata": {}
        }
      ]
    }
  ]
}